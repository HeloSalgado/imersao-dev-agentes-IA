{
 "cells": [
  {
   "cell_type": "code",
   "execution_count": 1,
   "metadata": {
    "colab": {
     "base_uri": "https://localhost:8080/"
    },
    "executionInfo": {
     "elapsed": 14796,
     "status": "ok",
     "timestamp": 1757603445064,
     "user": {
      "displayName": "Heloisa Salgado",
      "userId": "15121191524931723006"
     },
     "user_tz": 180
    },
    "id": "ekPBeTBRU9JJ",
    "outputId": "cc55cec8-2753-4f91-ab2c-dbeca1cbd593"
   },
   "outputs": [
    {
     "name": "stdout",
     "output_type": "stream",
     "text": [
      "\u001b[?25l   \u001b[90m━━━━━━━━━━━━━━━━━━━━━━━━━━━━━━━━━━━━━━━━\u001b[0m \u001b[32m0.0/42.0 kB\u001b[0m \u001b[31m?\u001b[0m eta \u001b[36m-:--:--\u001b[0m\r\u001b[2K   \u001b[90m━━━━━━━━━━━━━━━━━━━━━━━━━━━━━━━━━━━━━━━━\u001b[0m \u001b[32m42.0/42.0 kB\u001b[0m \u001b[31m2.1 MB/s\u001b[0m eta \u001b[36m0:00:00\u001b[0m\n",
      "\u001b[?25h"
     ]
    }
   ],
   "source": [
    "!pip install -q --upgrade langchain langchain-google-genai google-generativeai"
   ]
  },
  {
   "cell_type": "code",
   "execution_count": 2,
   "metadata": {
    "executionInfo": {
     "elapsed": 6904,
     "status": "ok",
     "timestamp": 1757603577213,
     "user": {
      "displayName": "Heloisa Salgado",
      "userId": "15121191524931723006"
     },
     "user_tz": 180
    },
    "id": "8GIFH4MZUxoo"
   },
   "outputs": [],
   "source": [
    "from google.colab import userdata\n",
    "from langchain_google_genai import ChatGoogleGenerativeAI\n",
    "\n",
    "GOOGLE_API_KEY = userdata.get('GEMINI_API_KEY')"
   ]
  },
  {
   "cell_type": "markdown",
   "metadata": {
    "id": "iSU8U4YFV73-"
   },
   "source": [
    "# **Classificação de Currículos**\n",
    "Pré-seleção e triagem inicial de candidatos em processos seletivos."
   ]
  },
  {
   "cell_type": "code",
   "execution_count": 3,
   "metadata": {
    "executionInfo": {
     "elapsed": 116,
     "status": "ok",
     "timestamp": 1757603670128,
     "user": {
      "displayName": "Heloisa Salgado",
      "userId": "15121191524931723006"
     },
     "user_tz": 180
    },
    "id": "8iRfVwHFV1y0"
   },
   "outputs": [],
   "source": [
    "llm_curriculos = ChatGoogleGenerativeAI(\n",
    "    model=\"gemini-2.5-flash\",\n",
    "    temperature=0.0,\n",
    "    api_key=GOOGLE_API_KEY\n",
    ")"
   ]
  },
  {
   "cell_type": "code",
   "execution_count": null,
   "metadata": {
    "executionInfo": {
     "elapsed": 19,
     "status": "ok",
     "timestamp": 1757604129157,
     "user": {
      "displayName": "Heloisa Salgado",
      "userId": "15121191524931723006"
     },
     "user_tz": 180
    },
    "id": "emHKokHoWVL1"
   },
   "outputs": [],
   "source": [
    "CURRICULO_PROMPT = (\n",
    "    \"Você é um triador de currículos para a vaga de 'Desenvolvedor Python Júnior'. \"\n",
    "    \"Analise o texto e extraia as seguintes informações no formato JSON:\\n\\n\"\n",
    "\n",
    "    # Exemplo 1 (Candidato Júnior)\n",
    "    \"Currículo: João da Silva. Desenvolvedor Python com 1 ano de experiência. Conhecimentos em Django, SQL e Git. Busco minha primeira oportunidade como júnior.\\n\"\n",
    "    \"JSON: {\\n\"\n",
    "    \"  \\\"nivel_senioridade\\\": \\\"JUNIOR\\\",\\n\"\n",
    "    \"  \\\"anos_experiencia\\\": 1,\\n\"\n",
    "    \"  \\\"habilidades_tecnicas\\\": [\\\"Django\\\", \\\"SQL\\\", \\\"Git\\\"],\\n\"\n",
    "    \"  \\\"nota_compatibilidade\\\": 85\\n\"\n",
    "    \"}\\n\\n\"\n",
    "\n",
    "    # Exemplo 2 (Candidato Sênior)\n",
    "    \"Currículo: Maria Oliveira. Engenheira de Software com mais de 10 anos de experiência em Python. Especialista em microserviços com Flask e Docker. Liderou times de backend em projetos de grande escala.\\n\"\n",
    "    \"JSON: {\\n\"\n",
    "    \"  \\\"nivel_senioridade\\\": \\\"SENIOR\\\",\\n\"\n",
    "    \"  \\\"anos_experiencia\\\": 10,\\n\"\n",
    "    \"  \\\"habilidades_tecnicas\\\": [\\\"Python\\\", \\\"Flask\\\", \\\"Docker\\\", \\\"microserviços\\\"],\\n\"\n",
    "    \"  \\\"nota_compatibilidade\\\": 60\\n\"\n",
    "    \"}\\n\\n\"\n",
    "\n",
    "    # Exemplo 3 (Candidato Pleno)\n",
    "    \"Currículo: Pedro Costa. Desenvolvedor Python com 4 anos de experiência. Proficiência em Django, FastAPI e APIs REST. Certificação AWS. Atuei em projetos de médio porte.\\n\"\n",
    "    \"JSON: {\\n\"\n",
    "    \"  \\\"nivel_senioridade\\\": \\\"PLENO\\\",\\n\"\n",
    "    \"  \\\"anos_experiencia\\\": 4,\\n\"\n",
    "    \"  \\\"habilidades_tecnicas\\\": [\\\"Django\\\", \\\"FastAPI\\\", \\\"APIs REST\\\", \\\"AWS\\\"],\\n\"\n",
    "    \"  \\\"nota_compatibilidade\\\": 95\\n\"\n",
    "    \"}\\n\\n\"\n",
    "\n",
    "    \"Currículo: {curriculo}\\n\"\n",
    "    \"JSON: \"\n",
    "\n",
    ")"
   ]
  },
  {
   "cell_type": "code",
   "execution_count": 5,
   "metadata": {
    "executionInfo": {
     "elapsed": 47,
     "status": "ok",
     "timestamp": 1757604440201,
     "user": {
      "displayName": "Heloisa Salgado",
      "userId": "15121191524931723006"
     },
     "user_tz": 180
    },
    "id": "ITVppI8bXrJG"
   },
   "outputs": [],
   "source": [
    "from pydantic import BaseModel, Field\n",
    "from typing import Literal, List, Dict\n",
    "\n",
    "class CandidatoOut(BaseModel):\n",
    "  nivel_senioridade: Literal['JUNIOR', 'PLENO', 'SENIOR']\n",
    "  anos_experiencia: int\n",
    "  habilidades_tecnicas: List[str] = Field(default_factory=list)\n",
    "  nota_compatibilidade: int"
   ]
  },
  {
   "cell_type": "code",
   "execution_count": 6,
   "metadata": {
    "executionInfo": {
     "elapsed": 44,
     "status": "ok",
     "timestamp": 1757604680245,
     "user": {
      "displayName": "Heloisa Salgado",
      "userId": "15121191524931723006"
     },
     "user_tz": 180
    },
    "id": "i0N_Kd1lY3CZ"
   },
   "outputs": [],
   "source": [
    "from langchain_core.messages import SystemMessage, HumanMessage\n",
    "\n",
    "curriculo_chain = llm_curriculos.with_structured_output(CandidatoOut)\n",
    "\n",
    "def triagem_curriculo(curriculo: str) -> Dict:\n",
    "  saida: CandidatoOut = curriculo_chain.invoke([\n",
    "      SystemMessage(content=CURRICULO_PROMPT),\n",
    "      HumanMessage(content=curriculo)\n",
    "  ])\n",
    "\n",
    "  return saida.model_dump()"
   ]
  },
  {
   "cell_type": "code",
   "execution_count": 8,
   "metadata": {
    "executionInfo": {
     "elapsed": 12,
     "status": "ok",
     "timestamp": 1757604994267,
     "user": {
      "displayName": "Heloisa Salgado",
      "userId": "15121191524931723006"
     },
     "user_tz": 180
    },
    "id": "PZndkfcTZyJI"
   },
   "outputs": [],
   "source": [
    "testes = [\n",
    "    \"Ana Souza. Recém-formada em Ciência da Computação. Possui 8 meses de experiência em estágio com desenvolvimento backend. Tem sólidos conhecimentos em Python, Pandas, APIs REST e SQL. Entusiasmada em iniciar a carreira como Desenvolvedora Júnior.\",\n",
    "    \"Lucas Ferreira. Desenvolvedor Full-stack com 5 anos de experiência. Proficiência em Python, Django, Docker, e AWS. Liderou projetos de médio porte e participou de todo o ciclo de vida do desenvolvimento de software.\",\n",
    "    \"Camila Santos. Arquiteta de Software. Vasta experiência com mais de 12 anos em projetos de larga escala. Especialista em arquiteturas de microsserviços e sistemas distribuídos. Experiência em liderança técnica e mentoring de equipes.\",\n",
    "    \"Fernanda Lima. Recém-formada em Engenharia de Software. Participou de um projeto de robótica usando Python, mas sem experiência com bancos de dados. Conhece apenas a sintaxe básica de Python e Git.\",\n",
    "    \"Ricardo Alves. Profissional com grande experiência em desenvolvimento web. Trabalhou com Python e Flask. Fez um curso avançado de Docker e Kubernetes.\"\n",
    "]"
   ]
  },
  {
   "cell_type": "code",
   "execution_count": 10,
   "metadata": {
    "colab": {
     "base_uri": "https://localhost:8080/"
    },
    "executionInfo": {
     "elapsed": 40216,
     "status": "ok",
     "timestamp": 1757605157316,
     "user": {
      "displayName": "Heloisa Salgado",
      "userId": "15121191524931723006"
     },
     "user_tz": 180
    },
    "id": "35KGUdlpaaBO",
    "outputId": "3c6411e7-bc4a-44b1-92f1-95e3236f819d"
   },
   "outputs": [
    {
     "name": "stdout",
     "output_type": "stream",
     "text": [
      "Currículo: Ana Souza. Recém-formada em Ciência da Computação. Possui 8 meses de experiência em estágio com desenvolvimento backend. Tem sólidos conhecimentos em Python, Pandas, APIs REST e SQL. Entusiasmada em iniciar a carreira como Desenvolvedora Júnior.\n",
      "Resultado do candidato: {'nivel_senioridade': 'JUNIOR', 'anos_experiencia': 0, 'habilidades_tecnicas': ['Python', 'Pandas', 'APIs REST', 'SQL'], 'nota_compatibilidade': 90}\n",
      "\n",
      "Currículo: Lucas Ferreira. Desenvolvedor Full-stack com 5 anos de experiência. Proficiência em Python, Django, Docker, e AWS. Liderou projetos de médio porte e participou de todo o ciclo de vida do desenvolvimento de software.\n",
      "Resultado do candidato: {'nivel_senioridade': 'PLENO', 'anos_experiencia': 5, 'habilidades_tecnicas': ['Python', 'Django', 'Docker', 'AWS'], 'nota_compatibilidade': 55}\n",
      "\n",
      "Currículo: Camila Santos. Arquiteta de Software. Vasta experiência com mais de 12 anos em projetos de larga escala. Especialista em arquiteturas de microsserviços e sistemas distribuídos. Experiência em liderança técnica e mentoring de equipes.\n",
      "Resultado do candidato: {'nivel_senioridade': 'SENIOR', 'anos_experiencia': 12, 'habilidades_tecnicas': ['arquiteturas de microsserviços', 'sistemas distribuídos', 'liderança técnica', 'mentoring'], 'nota_compatibilidade': 10}\n",
      "\n",
      "Currículo: Fernanda Lima. Recém-formada em Engenharia de Software. Participou de um projeto de robótica usando Python, mas sem experiência com bancos de dados. Conhece apenas a sintaxe básica de Python e Git.\n",
      "Resultado do candidato: {'nivel_senioridade': 'JUNIOR', 'anos_experiencia': 0, 'habilidades_tecnicas': ['Python', 'Git'], 'nota_compatibilidade': 70}\n",
      "\n",
      "Currículo: Ricardo Alves. Profissional com grande experiência em desenvolvimento web. Trabalhou com Python e Flask. Fez um curso avançado de Docker e Kubernetes.\n",
      "Resultado do candidato: {'nivel_senioridade': 'PLENO', 'anos_experiencia': 3, 'habilidades_tecnicas': ['Python', 'Flask', 'Docker', 'Kubernetes'], 'nota_compatibilidade': 55}\n",
      "\n"
     ]
    }
   ],
   "source": [
    "for curriculo in testes:\n",
    "  print(f\"Currículo: {curriculo}\\nResultado do candidato: {triagem_curriculo(curriculo)}\\n\")"
   ]
  }
 ],
 "metadata": {
  "colab": {
   "authorship_tag": "ABX9TyMxL5Q6KEZ8LrCWFadcfiMB",
   "provenance": []
  },
  "kernelspec": {
   "display_name": "Python 3",
   "name": "python3"
  },
  "language_info": {
   "name": "python"
  }
 },
 "nbformat": 4,
 "nbformat_minor": 0
}
